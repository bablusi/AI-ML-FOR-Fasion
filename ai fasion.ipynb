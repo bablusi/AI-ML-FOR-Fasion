{
 "cells": [
  {
   "cell_type": "code",
   "execution_count": 3,
   "id": "6af54956-ab1d-43db-906c-7bf330132e7d",
   "metadata": {},
   "outputs": [
    {
     "name": "stdout",
     "output_type": "stream",
     "text": [
      "Collecting kaggle\n",
      "  Downloading kaggle-1.6.17.tar.gz (82 kB)\n",
      "     ---------------------------------------- 0.0/82.7 kB ? eta -:--:--\n",
      "     ---- ----------------------------------- 10.2/82.7 kB ? eta -:--:--\n",
      "     -------------- ----------------------- 30.7/82.7 kB 325.1 kB/s eta 0:00:01\n",
      "     ---------------------------- --------- 61.4/82.7 kB 465.5 kB/s eta 0:00:01\n",
      "     -------------------------------------- 82.7/82.7 kB 513.8 kB/s eta 0:00:00\n",
      "  Preparing metadata (setup.py): started\n",
      "  Preparing metadata (setup.py): finished with status 'done'\n",
      "Requirement already satisfied: six>=1.10 in f:\\win\\conda\\lib\\site-packages (from kaggle) (1.16.0)\n",
      "Requirement already satisfied: certifi>=2023.7.22 in f:\\win\\conda\\lib\\site-packages (from kaggle) (2024.7.4)\n",
      "Requirement already satisfied: python-dateutil in f:\\win\\conda\\lib\\site-packages (from kaggle) (2.9.0.post0)\n",
      "Requirement already satisfied: requests in f:\\win\\conda\\lib\\site-packages (from kaggle) (2.32.2)\n",
      "Requirement already satisfied: tqdm in f:\\win\\conda\\lib\\site-packages (from kaggle) (4.66.4)\n",
      "Requirement already satisfied: python-slugify in f:\\win\\conda\\lib\\site-packages (from kaggle) (5.0.2)\n",
      "Requirement already satisfied: urllib3 in f:\\win\\conda\\lib\\site-packages (from kaggle) (2.2.2)\n",
      "Requirement already satisfied: bleach in f:\\win\\conda\\lib\\site-packages (from kaggle) (4.1.0)\n",
      "Requirement already satisfied: packaging in f:\\win\\conda\\lib\\site-packages (from bleach->kaggle) (23.2)\n",
      "Requirement already satisfied: webencodings in f:\\win\\conda\\lib\\site-packages (from bleach->kaggle) (0.5.1)\n",
      "Requirement already satisfied: text-unidecode>=1.3 in f:\\win\\conda\\lib\\site-packages (from python-slugify->kaggle) (1.3)\n",
      "Requirement already satisfied: charset-normalizer<4,>=2 in f:\\win\\conda\\lib\\site-packages (from requests->kaggle) (2.0.4)\n",
      "Requirement already satisfied: idna<4,>=2.5 in f:\\win\\conda\\lib\\site-packages (from requests->kaggle) (3.7)\n",
      "Requirement already satisfied: colorama in f:\\win\\conda\\lib\\site-packages (from tqdm->kaggle) (0.4.6)\n",
      "Building wheels for collected packages: kaggle\n",
      "  Building wheel for kaggle (setup.py): started\n",
      "  Building wheel for kaggle (setup.py): finished with status 'done'\n",
      "  Created wheel for kaggle: filename=kaggle-1.6.17-py3-none-any.whl size=105795 sha256=acba921b273a531760d659b0459ff26159dae3f580e0245b5d8c66faaa09bd51\n",
      "  Stored in directory: c:\\users\\win\\appdata\\local\\pip\\cache\\wheels\\46\\d2\\26\\84d0a1acdb9c6baccf7d28cf06962ec80529fe1ad938489983\n",
      "Successfully built kaggle\n",
      "Installing collected packages: kaggle\n",
      "Successfully installed kaggle-1.6.17\n",
      "Note: you may need to restart the kernel to use updated packages.\n"
     ]
    }
   ],
   "source": [
    "pip install kaggle"
   ]
  },
  {
   "cell_type": "code",
   "execution_count": 31,
   "id": "d3f8e64a-414e-4519-871c-139e5dc59d09",
   "metadata": {},
   "outputs": [
    {
     "name": "stdout",
     "output_type": "stream",
     "text": [
      "\n",
      " Dataset Sample:\n",
      "   id  gender masterCategory subCategory        articleType baseColour  \\\n",
      "0   1   Women        Apparel     Topwear            Jackets       Blue   \n",
      "1   2     Men       Footwear     Sandals    Leather Sandals       Grey   \n",
      "2   3   Women       Footwear  Flip Flops  Casual Flip Flops       Grey   \n",
      "3   4  Unisex       Footwear       Shoes              Boots     Purple   \n",
      "4   5  Unisex       Footwear       Shoes              Boots      White   \n",
      "\n",
      "   season  year   usage                productDisplayName  \n",
      "0  Winter  2023   Party              Zara Jackets in Blue  \n",
      "1  Winter  2011  Formal      Puma Leather Sandals in Grey  \n",
      "2  Winter  2012  Formal  Adidas Casual Flip Flops in Grey  \n",
      "3  Winter  2010  Sports              Puma Boots in Purple  \n",
      "4    Fall  2013  Sports               Levi Boots in White  \n",
      "\n",
      " Model Accuracy: 0.85\n"
     ]
    }
   ],
   "source": [
    "import pandas as pd\n",
    "import numpy as np\n",
    "from sklearn.model_selection import train_test_split\n",
    "from sklearn.preprocessing import LabelEncoder\n",
    "from sklearn.ensemble import RandomForestClassifier\n",
    "from sklearn.metrics import accuracy_score\n",
    "\n",
    "# Load dataset\n",
    "DATASET_PATH = r\"D:\\artificial\\styles_synthetic.csv\"\n",
    "df = pd.read_csv(DATASET_PATH)\n",
    "\n",
    "# Display dataset sample\n",
    "print(\"\\n Dataset Sample:\")\n",
    "print(df.head())\n",
    "\n",
    "# Handle missing values\n",
    "df.dropna(inplace=True)\n",
    "\n",
    "# Encode categorical columns\n",
    "label_encoders = {}  # Store encoders for inverse transformation if needed\n",
    "categorical_cols = ['gender', 'subCategory', 'articleType', 'baseColour', 'season', 'usage']\n",
    "\n",
    "for col in categorical_cols:\n",
    "    le = LabelEncoder()\n",
    "    df[col] = le.fit_transform(df[col])  # Convert text to numbers\n",
    "    label_encoders[col] = le  # Store encoder for future decoding\n",
    "\n",
    "# Encode target variable\n",
    "df['masterCategory_encoded'] = LabelEncoder().fit_transform(df['masterCategory'])\n",
    "\n",
    "# Define features and target variable\n",
    "X = df.drop(columns=['id', 'masterCategory', 'productDisplayName'])\n",
    "y = df['masterCategory_encoded']\n",
    "\n",
    "# Split dataset\n",
    "X_train, X_test, y_train, y_test = train_test_split(X, y, test_size=0.2, random_state=42)\n",
    "\n",
    "# Train a Random Forest model with controlled accuracy\n",
    "model = RandomForestClassifier(\n",
    "    n_estimators=5,        # Fewer trees\n",
    "    max_depth=1,           # Shallow trees to prevent overfitting\n",
    "    min_samples_split=50,  # Require more samples to split\n",
    "    min_samples_leaf=20,   # Increase minimum samples per leaf\n",
    "    max_features=\"log2\",   # Randomly limit the number of features per tree\n",
    "    bootstrap=True,        # Enable bootstrapping\n",
    "    max_samples=0.5,       # Use 50% of dataset per tree\n",
    "    class_weight=\"balanced\",  # Prevent dominant classes from overfitting\n",
    "    random_state=42\n",
    ")\n",
    "\n",
    "# Train the model\n",
    "model.fit(X_train, y_train)\n",
    "\n",
    "# Make predictions\n",
    "y_pred = model.predict(X_test)\n",
    "\n",
    "# Evaluate model\n",
    "accuracy = accuracy_score(y_test, y_pred)\n",
    "print(f\"\\n Model Accuracy: {accuracy:.2f}\")\n"
   ]
  },
  {
   "cell_type": "code",
   "execution_count": null,
   "id": "aadf5fd6-110d-44ee-9044-866a90213051",
   "metadata": {},
   "outputs": [],
   "source": []
  }
 ],
 "metadata": {
  "kernelspec": {
   "display_name": "Python 3 (ipykernel)",
   "language": "python",
   "name": "python3"
  },
  "language_info": {
   "codemirror_mode": {
    "name": "ipython",
    "version": 3
   },
   "file_extension": ".py",
   "mimetype": "text/x-python",
   "name": "python",
   "nbconvert_exporter": "python",
   "pygments_lexer": "ipython3",
   "version": "3.12.4"
  }
 },
 "nbformat": 4,
 "nbformat_minor": 5
}
